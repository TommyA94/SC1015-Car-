{
 "cells": [
  {
   "cell_type": "code",
   "execution_count": null,
   "id": "d51c369c",
   "metadata": {},
   "outputs": [],
   "source": [
    " import numpy as np\n",
    "import pandas as pd\n",
    "import seaborn as sb\n",
    "import matplotlib.pyplot as plt\n",
    "sb.set()"
   ]
  },
  {
   "cell_type": "code",
   "execution_count": null,
   "id": "9427508d",
   "metadata": {},
   "outputs": [],
   "source": [
    "train=pd.read_csv('data.csv')"
   ]
  },
  {
   "cell_type": "code",
   "execution_count": null,
   "id": "7b683154",
   "metadata": {},
   "outputs": [],
   "source": [
    "pd.set_option(\"display.max_rows\", None, \"display.max_columns\", None)"
   ]
  },
  {
   "cell_type": "code",
   "execution_count": null,
   "id": "59aa2314",
   "metadata": {},
   "outputs": [],
   "source": [
    "train"
   ]
  },
  {
   "cell_type": "code",
   "execution_count": null,
   "id": "12de1b12",
   "metadata": {},
   "outputs": [],
   "source": [
    "year= train[\"Year\"]"
   ]
  },
  {
   "cell_type": "code",
   "execution_count": null,
   "id": "c79c3295",
   "metadata": {},
   "outputs": [],
   "source": [
    "transmission= train[\"Transmission Type\"]\n",
    "transmission.value_counts()"
   ]
  },
  {
   "cell_type": "code",
   "execution_count": null,
   "id": "8e9931bc",
   "metadata": {},
   "outputs": [],
   "source": [
    "manual=train[train[\"Transmission Type\"]==\"MANUAL\"]\n",
    "manual"
   ]
  },
  {
   "cell_type": "code",
   "execution_count": null,
   "id": "fa56868a",
   "metadata": {},
   "outputs": [],
   "source": [
    "unknown=train[train[\"Transmission Type\"]==\"UNKNOWN\"]\n",
    "unknown"
   ]
  },
  {
   "cell_type": "code",
   "execution_count": null,
   "id": "f78e9ce9",
   "metadata": {},
   "outputs": [],
   "source": [
    "duplicates=pd.concat([manual,unknown],axis = 0)\n",
    "automatic=train.drop(duplicates.index)\n",
    "automatic"
   ]
  },
  {
   "cell_type": "code",
   "execution_count": null,
   "id": "6c8c57ae",
   "metadata": {},
   "outputs": [],
   "source": [
    "msrp=pd.DataFrame(train['MSRP'])"
   ]
  },
  {
   "cell_type": "code",
   "execution_count": null,
   "id": "93736808",
   "metadata": {},
   "outputs": [],
   "source": [
    "msrp.describe()"
   ]
  },
  {
   "cell_type": "code",
   "execution_count": null,
   "id": "e4f2ecbb",
   "metadata": {},
   "outputs": [],
   "source": [
    "pop=pd.DataFrame(train['Popularity'])"
   ]
  },
  {
   "cell_type": "code",
   "execution_count": null,
   "id": "dbb56006",
   "metadata": {},
   "outputs": [],
   "source": [
    "make.value_counts()"
   ]
  },
  {
   "cell_type": "code",
   "execution_count": null,
   "id": "0b756be9",
   "metadata": {},
   "outputs": [],
   "source": [
    "jointDF = pd.concat([msrp,make],axis = 1).reindex(msrp.index)\n",
    "jointDF"
   ]
  },
  {
   "cell_type": "code",
   "execution_count": null,
   "id": "a4c17793",
   "metadata": {},
   "outputs": [],
   "source": [
    "\n",
    "ax = sb.barplot(y = \"Popularity\", x = \"MSRP\", data = jointDF)\n",
    "ax.set(ylabel=\"popularity\", xlabel = \"msrp\")"
   ]
  },
  {
   "cell_type": "code",
   "execution_count": null,
   "id": "7f10653b",
   "metadata": {},
   "outputs": [],
   "source": [
    "make=pd.DataFrame(train['Make'])\n",
    "sb.catplot(y = 'Make', data = jointDF, \n",
    "           kind = \"count\", \n",
    "           height = 8, \n",
    "           order = jointDF['Make'].value_counts().index)"
   ]
  },
  {
   "cell_type": "code",
   "execution_count": null,
   "id": "c4a1c2ca",
   "metadata": {},
   "outputs": [],
   "source": [
    "f = plt.figure(figsize=(35, 8))\n",
    "sb.barplot(x = 'Make', y = 'MSRP', data = jointDF) \n",
    "           #order = jointDF.groupby('Make')['MSRP'].median().sort_values().index)\n",
    "\n",
    "# Tilt the x-axis labels for better readability\n",
    "plt.xticks(rotation=45);"
   ]
  },
  {
   "cell_type": "code",
   "execution_count": null,
   "id": "d7739ae4",
   "metadata": {},
   "outputs": [],
   "source": [
    "train.shape"
   ]
  },
  {
   "cell_type": "code",
   "execution_count": null,
   "id": "4a311ec8",
   "metadata": {},
   "outputs": [],
   "source": [
    "filtered=train[train[\"MSRP\"]==2000]\n",
    "filtered"
   ]
  },
  {
   "cell_type": "code",
   "execution_count": null,
   "id": "c65aa8d5",
   "metadata": {},
   "outputs": [],
   "source": [
    "#duplicates=pd.merge(train,filtered)\n",
    "train_filtered=train.drop(filtered.index)\n",
    "train_filtered.shape"
   ]
  },
  {
   "cell_type": "markdown",
   "id": "6f7ed31d",
   "metadata": {},
   "source": [
    "\n",
    "do filter_rule = (2000 == train_set[\"MSRP\"])\n",
    "filter_set = train_set[filter_rule]\n",
    "then display\n",
    "display year, make, msrp\n",
    "replot rest of data\n",
    "do random 80:20\n",
    "which feature affect price most(boxplot, regression etc)\n"
   ]
  },
  {
   "cell_type": "code",
   "execution_count": null,
   "id": "261e8adb",
   "metadata": {},
   "outputs": [],
   "source": [
    "jointDF2 = pd.concat([msrp,year],axis = 1).reindex(msrp.index)\n",
    "jointDF2"
   ]
  },
  {
   "cell_type": "code",
   "execution_count": null,
   "id": "47f7cf18",
   "metadata": {},
   "outputs": [],
   "source": [
    " sb.barplot(y = \"Year\", x = \"MSRP\", data = jointDF2)\n"
   ]
  },
  {
   "cell_type": "code",
   "execution_count": null,
   "id": "db959ca2",
   "metadata": {},
   "outputs": [],
   "source": [
    "plt.bar(\"Year\", \"MSRP\", data = jointDF2, color = \"blue\")\n",
    "plt.xlabel(\"Year\")\n",
    "plt.ylabel(\"MSRP\")\n",
    "plt.title(\"Car\")\n",
    "plt.show()"
   ]
  },
  {
   "cell_type": "code",
   "execution_count": null,
   "id": "e31c8606",
   "metadata": {},
   "outputs": [],
   "source": []
  }
 ],
 "metadata": {
  "kernelspec": {
   "display_name": "Python 3 (ipykernel)",
   "language": "python",
   "name": "python3"
  },
  "language_info": {
   "codemirror_mode": {
    "name": "ipython",
    "version": 3
   },
   "file_extension": ".py",
   "mimetype": "text/x-python",
   "name": "python",
   "nbconvert_exporter": "python",
   "pygments_lexer": "ipython3",
   "version": "3.9.7"
  }
 },
 "nbformat": 4,
 "nbformat_minor": 5
}
