{
 "cells": [
  {
   "cell_type": "code",
   "execution_count": null,
   "id": "d51c369c",
   "metadata": {},
   "outputs": [],
   "source": [
    " import numpy as np\n",
    "import pandas as pd\n",
    "import seaborn as sb\n",
    "import matplotlib.pyplot as plt\n",
    "sb.set()"
   ]
  },
  {
   "cell_type": "code",
   "execution_count": null,
   "id": "9427508d",
   "metadata": {},
   "outputs": [],
   "source": [
    "train=pd.read_csv('data.csv')"
   ]
  },
  {
   "cell_type": "code",
   "execution_count": null,
   "id": "7b683154",
   "metadata": {},
   "outputs": [],
   "source": [
    "pd.set_option(\"display.max_rows\", None, \"display.max_columns\", None)"
   ]
  },
  {
   "cell_type": "code",
   "execution_count": null,
   "id": "59aa2314",
   "metadata": {},
   "outputs": [],
   "source": [
    "#train"
   ]
  },
  {
   "cell_type": "code",
   "execution_count": null,
   "id": "12de1b12",
   "metadata": {},
   "outputs": [],
   "source": [
    "year= train[\"Year\"]"
   ]
  },
  {
   "cell_type": "code",
   "execution_count": null,
   "id": "c79c3295",
   "metadata": {},
   "outputs": [],
   "source": [
    "transmission= train[\"Transmission Type\"]\n",
    "transmission.value_counts()"
   ]
  },
  {
   "cell_type": "code",
   "execution_count": null,
   "id": "8e9931bc",
   "metadata": {},
   "outputs": [],
   "source": [
    "manual=train[train[\"Transmission Type\"]==\"MANUAL\"]\n",
    "#manual"
   ]
  },
  {
   "cell_type": "code",
   "execution_count": null,
   "id": "fa56868a",
   "metadata": {},
   "outputs": [],
   "source": [
    "unknown=train[train[\"Transmission Type\"]==\"UNKNOWN\"]\n",
    "#unknown"
   ]
  },
  {
   "cell_type": "code",
   "execution_count": null,
   "id": "f78e9ce9",
   "metadata": {},
   "outputs": [],
   "source": [
    "duplicates=pd.concat([manual,unknown],axis = 0)\n",
    "automatic=train.drop(duplicates.index)\n",
    "#automatic"
   ]
  },
  {
   "cell_type": "code",
   "execution_count": null,
   "id": "6c8c57ae",
   "metadata": {},
   "outputs": [],
   "source": [
    "msrp=pd.DataFrame(train['MSRP'])"
   ]
  },
  {
   "cell_type": "code",
   "execution_count": null,
   "id": "93736808",
   "metadata": {},
   "outputs": [],
   "source": [
    "msrp.describe()"
   ]
  },
  {
   "cell_type": "code",
   "execution_count": null,
   "id": "e4f2ecbb",
   "metadata": {},
   "outputs": [],
   "source": [
    "pop=pd.DataFrame(train['Popularity'])"
   ]
  },
  {
   "cell_type": "code",
   "execution_count": null,
   "id": "dbb56006",
   "metadata": {},
   "outputs": [],
   "source": [
    "make = train[\"Make\"]\n",
    "make=make.astype(\"category\")\n",
    "#make.value_counts()"
   ]
  },
  {
   "cell_type": "code",
   "execution_count": null,
   "id": "7b2547f7",
   "metadata": {},
   "outputs": [],
   "source": [
    "#make_filtered.value_counts()"
   ]
  },
  {
   "cell_type": "code",
   "execution_count": null,
   "id": "f8d85adb",
   "metadata": {},
   "outputs": [],
   "source": [
    "#make_filtered2.value_counts()"
   ]
  },
  {
   "cell_type": "code",
   "execution_count": null,
   "id": "0b756be9",
   "metadata": {},
   "outputs": [],
   "source": [
    "jointDF = pd.concat([msrp,make],axis = 1).reindex(msrp.index)\n",
    "#jointDF"
   ]
  },
  {
   "cell_type": "code",
   "execution_count": null,
   "id": "4a311ec8",
   "metadata": {
    "scrolled": true
   },
   "outputs": [],
   "source": [
    "filtered=train[train[\"MSRP\"]==2000]\n",
    "#filtered"
   ]
  },
  {
   "cell_type": "code",
   "execution_count": null,
   "id": "c65aa8d5",
   "metadata": {},
   "outputs": [],
   "source": [
    "#duplicates=pd.merge(train,filtered)\n",
    "train_filtered=train.drop(filtered.index)\n",
    "train_filtered.shape"
   ]
  },
  {
   "cell_type": "code",
   "execution_count": null,
   "id": "4f3d5b84",
   "metadata": {},
   "outputs": [],
   "source": [
    "make_filtered=pd.DataFrame(train_filtered[\"Make\"])\n",
    "make_filtered=make_filtered.astype(\"category\")\n",
    "\n",
    "#make_filtered.value_counts()"
   ]
  },
  {
   "cell_type": "code",
   "execution_count": null,
   "id": "90b746b3",
   "metadata": {},
   "outputs": [],
   "source": [
    "msrp_filtered=pd.DataFrame(train_filtered[\"MSRP\"])\n",
    "jointDF3 = pd.concat([msrp_filtered,make_filtered],axis = 1).reindex(msrp_filtered.index)\n"
   ]
  },
  {
   "cell_type": "code",
   "execution_count": null,
   "id": "23aceaf5",
   "metadata": {},
   "outputs": [],
   "source": [
    "jointDF[\"MSRP\"].describe()"
   ]
  },
  {
   "cell_type": "code",
   "execution_count": null,
   "id": "3306eb64",
   "metadata": {},
   "outputs": [],
   "source": [
    "jointDF3[\"MSRP\"].describe()"
   ]
  },
  {
   "cell_type": "code",
   "execution_count": null,
   "id": "b1790933",
   "metadata": {},
   "outputs": [],
   "source": [
    "jointDF4[\"MSRP\"].describe()"
   ]
  },
  {
   "cell_type": "code",
   "execution_count": null,
   "id": "f6d12630",
   "metadata": {},
   "outputs": [],
   "source": [
    "filtered2=train[train[\"MSRP\"]<=10000]\n",
    "train_filtered2=train.drop(filtered2.index)\n",
    "#train_filtered.shape\n",
    "msrp_filtered2=pd.DataFrame(train_filtered2[\"MSRP\"])\n",
    "make_filtered2=pd.DataFrame(train_filtered2[\"Make\"])\n",
    "make_filtered2=make_filtered2.astype(\"category\")\n",
    "jointDF4 = pd.concat([msrp_filtered2,make_filtered2],axis = 1).reindex(msrp_filtered2.index)\n",
    "#jointDF4\n"
   ]
  },
  {
   "cell_type": "markdown",
   "id": "ea2a7dc7",
   "metadata": {},
   "source": [
    "Plot of the count of Make from original data set"
   ]
  },
  {
   "cell_type": "code",
   "execution_count": null,
   "id": "7f10653b",
   "metadata": {},
   "outputs": [],
   "source": [
    "make=pd.DataFrame(train['Make'])\n",
    "sb.catplot(y = 'Make', data = jointDF, \n",
    "           kind = \"count\", \n",
    "           height = 8, \n",
    "           order = jointDF['Make'].value_counts().index)"
   ]
  },
  {
   "cell_type": "markdown",
   "id": "1b243464",
   "metadata": {},
   "source": [
    "Plot of the count of Make data after filtering out the MSRP 2000 data"
   ]
  },
  {
   "cell_type": "code",
   "execution_count": null,
   "id": "9f101b5c",
   "metadata": {},
   "outputs": [],
   "source": [
    "sb.catplot(y = 'Make', data = jointDF3, \n",
    "           kind = \"count\", \n",
    "           height = 8, \n",
    "           order = jointDF3['Make'].value_counts().index)"
   ]
  },
  {
   "cell_type": "markdown",
   "id": "4bde2168",
   "metadata": {},
   "source": [
    "Plot of the count of Make data after filtering the MSRP in the range of above 2000 and less equal to 10000"
   ]
  },
  {
   "cell_type": "code",
   "execution_count": null,
   "id": "36be65ce",
   "metadata": {},
   "outputs": [],
   "source": [
    "sb.catplot(y = 'Make', data = jointDF4, \n",
    "           kind = \"count\", \n",
    "           height = 8, \n",
    "           order = jointDF4['Make'].value_counts().index)"
   ]
  },
  {
   "cell_type": "markdown",
   "id": "8093efae",
   "metadata": {},
   "source": [
    "Original Data plot of MSRP against the make"
   ]
  },
  {
   "cell_type": "code",
   "execution_count": null,
   "id": "c4a1c2ca",
   "metadata": {},
   "outputs": [],
   "source": [
    "f = plt.figure(figsize=(35, 8))\n",
    "sb.barplot(x = 'Make', y = 'MSRP', data = jointDF) \n",
    "           #order = jointDF.groupby('Make')['MSRP'].median().sort_values().index)\n",
    "\n",
    "# Tilt the x-axis labels for better readability\n",
    "plt.xticks(rotation=45);"
   ]
  },
  {
   "cell_type": "markdown",
   "id": "732fe072",
   "metadata": {},
   "source": [
    "Plot of MSRP against the Make after filtering out the data whose MSRP is 2000"
   ]
  },
  {
   "cell_type": "code",
   "execution_count": null,
   "id": "4e9e35e4",
   "metadata": {},
   "outputs": [],
   "source": [
    "f = plt.figure(figsize=(35, 8))\n",
    "sb.barplot(x = 'Make', y = 'MSRP', data = jointDF3) \n",
    "           #order = jointDF.groupby('Make')['MSRP'].median().sort_values().index)\n",
    "\n",
    "# Tilt the x-axis labels for better readability\n",
    "plt.xticks(rotation=45);"
   ]
  },
  {
   "cell_type": "code",
   "execution_count": null,
   "id": "11f209af",
   "metadata": {},
   "outputs": [],
   "source": [
    "f = plt.figure(figsize=(35, 8))\n",
    "sb.boxplot(x = 'Make', y = 'MSRP', data = jointDF, \n",
    "           order = jointDF.groupby('Make')['MSRP'].median().sort_values().index)\n",
    "\n",
    "# Tilt the x-axis labels for better readability\n",
    "plt.xticks(rotation=45);"
   ]
  },
  {
   "cell_type": "code",
   "execution_count": null,
   "id": "aead9584",
   "metadata": {},
   "outputs": [],
   "source": [
    "f = plt.figure(figsize=(35, 8))\n",
    "sb.boxplot(x = 'Make', y = 'MSRP', data = jointDF3, \n",
    "           order = jointDF3.groupby('Make')['MSRP'].median().sort_values().index)\n",
    "\n",
    "# Tilt the x-axis labels for better readability\n",
    "plt.xticks(rotation=45);"
   ]
  },
  {
   "cell_type": "code",
   "execution_count": null,
   "id": "aa7a9e4e",
   "metadata": {},
   "outputs": [],
   "source": [
    "f = plt.figure(figsize=(35, 8))\n",
    "sb.boxplot(x = 'Make', y = 'MSRP', data = jointDF4, \n",
    "           order = jointDF4.groupby('Make')['MSRP'].median().sort_values().index)\n",
    "\n",
    "# Tilt the x-axis labels for better readability\n",
    "plt.xticks(rotation=45);"
   ]
  },
  {
   "cell_type": "code",
   "execution_count": null,
   "id": "65124ee1",
   "metadata": {},
   "outputs": [],
   "source": [
    "f = plt.figure(figsize=(35, 8))\n",
    "sb.jointplot(x = \"Make\", y = \"MSRP\", data = jointDF4, height =42)\n",
    "plt.xticks(rotation=45)"
   ]
  },
  {
   "cell_type": "code",
   "execution_count": null,
   "id": "d7739ae4",
   "metadata": {},
   "outputs": [],
   "source": [
    "train.shape"
   ]
  },
  {
   "cell_type": "code",
   "execution_count": null,
   "id": "e9a54f09",
   "metadata": {},
   "outputs": [],
   "source": [
    "f = plt.figure(figsize=(35, 8))\n",
    "sb.barplot(x = 'Make', y = 'MSRP', data = jointDF4) \n",
    "           #order = jointDF.groupby('Make')['MSRP'].median().sort_values().index)\n",
    "\n",
    "# Tilt the x-axis labels for better readability\n",
    "plt.xticks(rotation=45);"
   ]
  },
  {
   "cell_type": "markdown",
   "id": "6f7ed31d",
   "metadata": {},
   "source": [
    "\n",
    "do filter_rule = (2000 == train_set[\"MSRP\"])\n",
    "filter_set = train_set[filter_rule]\n",
    "then display\n",
    "display year, make, msrp\n",
    "replot rest of data\n",
    "do random 80:20\n",
    "which feature affect price most(boxplot, regression etc)\n"
   ]
  },
  {
   "cell_type": "code",
   "execution_count": null,
   "id": "261e8adb",
   "metadata": {},
   "outputs": [],
   "source": [
    "jointDF2 = pd.concat([msrp,year],axis = 1).reindex(msrp.index)\n",
    "#jointDF2"
   ]
  },
  {
   "cell_type": "code",
   "execution_count": null,
   "id": "47f7cf18",
   "metadata": {},
   "outputs": [],
   "source": [
    "\n",
    " #sb.barplot(y = \"Year\", x = \"MSRP\", data = jointDF2)"
   ]
  },
  {
   "cell_type": "code",
   "execution_count": null,
   "id": "db959ca2",
   "metadata": {},
   "outputs": [],
   "source": [
    "#plt.bar(\"Year\", \"MSRP\", data = jointDF2, color = \"blue\")\n",
    "#plt.xlabel(\"Year\")\n",
    "#plt.ylabel(\"MSRP\")\n",
    "#plt.title(\"Car\")\n",
    "#plt.show()"
   ]
  },
  {
   "cell_type": "code",
   "execution_count": null,
   "id": "e31c8606",
   "metadata": {},
   "outputs": [],
   "source": [
    "#plt.style.use('seaborn')\n",
    "#sb.set_style('whitegrid')\n",
    "#plt.figure(figsize=(15, 3))\n",
    "#train.isnull().mean()"
   ]
  },
  {
   "cell_type": "code",
   "execution_count": null,
   "id": "5bbd92b8",
   "metadata": {},
   "outputs": [],
   "source": [
    "mark =  pd.DataFrame(train[\"Market Category\"])\n",
    "train_filterss=train.drop(mark,axis=1)\n",
    "#train_filterss\n",
    "\n",
    "#df = pd.read_csv(\"newdata.csv\",index_col=0)\n",
    "#df = df.drop(\"Max\",axis=0)"
   ]
  },
  {
   "cell_type": "code",
   "execution_count": null,
   "id": "ae0bd90c",
   "metadata": {},
   "outputs": [],
   "source": [
    "#make_filtered.describe()"
   ]
  },
  {
   "cell_type": "code",
   "execution_count": null,
   "id": "b90193af",
   "metadata": {},
   "outputs": [],
   "source": [
    "#make_filtered2.describe()"
   ]
  },
  {
   "cell_type": "code",
   "execution_count": null,
   "id": "8e61bc5c",
   "metadata": {},
   "outputs": [],
   "source": [
    "#len(jointDF4[\"Make\"].index)"
   ]
  },
  {
   "cell_type": "code",
   "execution_count": null,
   "id": "3f7d1791",
   "metadata": {},
   "outputs": [],
   "source": []
  },
  {
   "cell_type": "code",
   "execution_count": null,
   "id": "ce64fd32",
   "metadata": {},
   "outputs": [],
   "source": []
  },
  {
   "cell_type": "code",
   "execution_count": null,
   "id": "910b4851",
   "metadata": {},
   "outputs": [],
   "source": []
  },
  {
   "cell_type": "code",
   "execution_count": null,
   "id": "d6e36987",
   "metadata": {},
   "outputs": [],
   "source": []
  },
  {
   "cell_type": "code",
   "execution_count": null,
   "id": "445f7adf",
   "metadata": {},
   "outputs": [],
   "source": []
  },
  {
   "cell_type": "code",
   "execution_count": null,
   "id": "a1db2be0",
   "metadata": {},
   "outputs": [],
   "source": []
  },
  {
   "cell_type": "code",
   "execution_count": null,
   "id": "0a3b6b94",
   "metadata": {},
   "outputs": [],
   "source": []
  },
  {
   "cell_type": "code",
   "execution_count": null,
   "id": "885e8ff2",
   "metadata": {},
   "outputs": [],
   "source": []
  },
  {
   "cell_type": "code",
   "execution_count": null,
   "id": "e29ceb1d",
   "metadata": {},
   "outputs": [],
   "source": []
  }
 ],
 "metadata": {
  "kernelspec": {
   "display_name": "Python 3 (ipykernel)",
   "language": "python",
   "name": "python3"
  },
  "language_info": {
   "codemirror_mode": {
    "name": "ipython",
    "version": 3
   },
   "file_extension": ".py",
   "mimetype": "text/x-python",
   "name": "python",
   "nbconvert_exporter": "python",
   "pygments_lexer": "ipython3",
   "version": "3.9.7"
  }
 },
 "nbformat": 4,
 "nbformat_minor": 5
}
