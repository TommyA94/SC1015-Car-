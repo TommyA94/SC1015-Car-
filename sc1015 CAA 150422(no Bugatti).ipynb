{
 "cells": [
  {
   "cell_type": "code",
   "execution_count": null,
   "id": "d51c369c",
   "metadata": {},
   "outputs": [],
   "source": [
    " import numpy as np\n",
    "import pandas as pd\n",
    "import seaborn as sb\n",
    "import matplotlib.pyplot as plt\n",
    "sb.set()"
   ]
  },
  {
   "cell_type": "code",
   "execution_count": null,
   "id": "9427508d",
   "metadata": {},
   "outputs": [],
   "source": [
    "train=pd.read_csv('data.csv')"
   ]
  },
  {
   "cell_type": "code",
   "execution_count": null,
   "id": "7b683154",
   "metadata": {},
   "outputs": [],
   "source": [
    "pd.set_option(\"display.max_rows\", None, \"display.max_columns\", None)"
   ]
  },
  {
   "cell_type": "code",
   "execution_count": null,
   "id": "59aa2314",
   "metadata": {},
   "outputs": [],
   "source": [
    "#train"
   ]
  },
  {
   "cell_type": "code",
   "execution_count": null,
   "id": "12de1b12",
   "metadata": {},
   "outputs": [],
   "source": [
    "year= train[\"Year\"]"
   ]
  },
  {
   "cell_type": "code",
   "execution_count": null,
   "id": "8e9931bc",
   "metadata": {},
   "outputs": [],
   "source": [
    "manual=train[train[\"Transmission Type\"]==\"MANUAL\"]\n",
    "manual=manual[\"Transmission Type\"]\n",
    "manual.describe()"
   ]
  },
  {
   "cell_type": "code",
   "execution_count": null,
   "id": "fa56868a",
   "metadata": {},
   "outputs": [],
   "source": [
    "unknown=train[train[\"Transmission Type\"]==\"UNKNOWN\"]\n",
    "#unknown"
   ]
  },
  {
   "cell_type": "code",
   "execution_count": null,
   "id": "f78e9ce9",
   "metadata": {},
   "outputs": [],
   "source": [
    "duplicates=pd.concat([manual,unknown],axis = 0)\n",
    "automatic=train.drop(duplicates.index)\n",
    "automatic=automatic[\"Transmission Type\"]\n",
    "automatic.describe()"
   ]
  },
  {
   "cell_type": "code",
   "execution_count": null,
   "id": "6c8c57ae",
   "metadata": {},
   "outputs": [],
   "source": [
    "msrp=pd.DataFrame(train['MSRP'])"
   ]
  },
  {
   "cell_type": "code",
   "execution_count": null,
   "id": "93736808",
   "metadata": {},
   "outputs": [],
   "source": [
    "msrp.describe()"
   ]
  },
  {
   "cell_type": "code",
   "execution_count": null,
   "id": "e4f2ecbb",
   "metadata": {},
   "outputs": [],
   "source": [
    "pop=pd.DataFrame(train['Popularity'])"
   ]
  },
  {
   "cell_type": "code",
   "execution_count": null,
   "id": "dbb56006",
   "metadata": {},
   "outputs": [],
   "source": [
    "make = train[\"Make\"]\n",
    "make=make.astype(\"category\")\n",
    "#make.value_counts()"
   ]
  },
  {
   "cell_type": "code",
   "execution_count": null,
   "id": "7b2547f7",
   "metadata": {},
   "outputs": [],
   "source": [
    "#make_filtered.value_counts()"
   ]
  },
  {
   "cell_type": "code",
   "execution_count": null,
   "id": "f8d85adb",
   "metadata": {},
   "outputs": [],
   "source": [
    "#make_filtered2.value_counts()"
   ]
  },
  {
   "cell_type": "code",
   "execution_count": null,
   "id": "0b756be9",
   "metadata": {},
   "outputs": [],
   "source": [
    "jointDF = pd.concat([msrp,make],axis = 1).reindex(msrp.index)\n",
    "#jointDF"
   ]
  },
  {
   "cell_type": "code",
   "execution_count": null,
   "id": "4a311ec8",
   "metadata": {
    "scrolled": true
   },
   "outputs": [],
   "source": [
    "filtered=train[train[\"MSRP\"]==2000]\n",
    "filtered.corr()"
   ]
  },
  {
   "cell_type": "code",
   "execution_count": null,
   "id": "c65aa8d5",
   "metadata": {},
   "outputs": [],
   "source": [
    "#duplicates=pd.merge(train,filtered)\n",
    "train_filtered=train.drop(filtered.index)\n",
    "train_filtered.shape"
   ]
  },
  {
   "cell_type": "code",
   "execution_count": null,
   "id": "4f3d5b84",
   "metadata": {},
   "outputs": [],
   "source": [
    "make_filtered=pd.DataFrame(train_filtered[\"Make\"])\n",
    "make_filtered=make_filtered.astype(\"category\")\n",
    "\n",
    "#make_filtered.value_counts()"
   ]
  },
  {
   "cell_type": "code",
   "execution_count": null,
   "id": "90b746b3",
   "metadata": {},
   "outputs": [],
   "source": [
    "msrp_filtered=pd.DataFrame(train_filtered[\"MSRP\"])\n",
    "jointDF3 = pd.concat([msrp_filtered,make_filtered],axis = 1).reindex(msrp_filtered.index)\n"
   ]
  },
  {
   "cell_type": "code",
   "execution_count": null,
   "id": "23aceaf5",
   "metadata": {},
   "outputs": [],
   "source": [
    "#jointDF[\"MSRP\"].describe()"
   ]
  },
  {
   "cell_type": "code",
   "execution_count": null,
   "id": "3306eb64",
   "metadata": {},
   "outputs": [],
   "source": [
    "#jointDF3[\"MSRP\"].describe()"
   ]
  },
  {
   "cell_type": "code",
   "execution_count": null,
   "id": "b1790933",
   "metadata": {},
   "outputs": [],
   "source": [
    "#jointDF4[\"MSRP\"].describe()"
   ]
  },
  {
   "cell_type": "code",
   "execution_count": null,
   "id": "f6d12630",
   "metadata": {},
   "outputs": [],
   "source": [
    "filtered2=train[train[\"MSRP\"]<=10000]\n",
    "train_filtered2=train.drop(filtered2.index)\n",
    "#train_filtered.shape\n",
    "msrp_filtered2=pd.DataFrame(train_filtered2[\"MSRP\"])\n",
    "make_filtered2=pd.DataFrame(train_filtered2[\"Make\"])\n",
    "make_filtered2=make_filtered2.astype(\"category\")\n",
    "jointDF4 = pd.concat([msrp_filtered2,make_filtered2],axis = 1).reindex(msrp_filtered2.index)\n",
    "#jointDF4\n"
   ]
  },
  {
   "cell_type": "markdown",
   "id": "cc299f1d",
   "metadata": {},
   "source": []
  },
  {
   "cell_type": "markdown",
   "id": "ea2a7dc7",
   "metadata": {},
   "source": [
    "Plot of the count of Make from original data set"
   ]
  },
  {
   "cell_type": "code",
   "execution_count": null,
   "id": "7f10653b",
   "metadata": {},
   "outputs": [],
   "source": [
    "make=pd.DataFrame(train['Make'])\n",
    "sb.catplot(y = 'Make', data = jointDF, \n",
    "           kind = \"count\", \n",
    "           height = 8, \n",
    "           order = jointDF['Make'].value_counts().index)"
   ]
  },
  {
   "cell_type": "markdown",
   "id": "1b243464",
   "metadata": {},
   "source": [
    "Plot of the count of Make data after filtering out the MSRP 2000 data"
   ]
  },
  {
   "cell_type": "code",
   "execution_count": null,
   "id": "9f101b5c",
   "metadata": {},
   "outputs": [],
   "source": [
    "sb.catplot(y = 'Make', data = jointDF3, \n",
    "           kind = \"count\", \n",
    "           height = 8, \n",
    "           order = jointDF3['Make'].value_counts().index)"
   ]
  },
  {
   "cell_type": "markdown",
   "id": "4bde2168",
   "metadata": {},
   "source": [
    "Plot of the count of Make data after filtering the MSRP in the range of above 2000 and less equal to 10000"
   ]
  },
  {
   "cell_type": "code",
   "execution_count": null,
   "id": "36be65ce",
   "metadata": {},
   "outputs": [],
   "source": [
    "sb.catplot(y = 'Make', data = jointDF4, \n",
    "           kind = \"count\", \n",
    "           height = 8, \n",
    "           order = jointDF4['Make'].value_counts().index)"
   ]
  },
  {
   "cell_type": "markdown",
   "id": "8093efae",
   "metadata": {},
   "source": [
    "Original Data plot of MSRP against the make"
   ]
  },
  {
   "cell_type": "code",
   "execution_count": null,
   "id": "c4a1c2ca",
   "metadata": {},
   "outputs": [],
   "source": [
    "f = plt.figure(figsize=(35, 8))\n",
    "sb.barplot(x = 'Make', y = 'MSRP', data = jointDF) \n",
    "           #order = jointDF.groupby('Make')['MSRP'].median().sort_values().index)\n",
    "\n",
    "# Tilt the x-axis labels for better readability\n",
    "plt.xticks(rotation=45);"
   ]
  },
  {
   "cell_type": "markdown",
   "id": "732fe072",
   "metadata": {},
   "source": [
    "Plot of MSRP against the Make after filtering out the data whose MSRP is 2000"
   ]
  },
  {
   "cell_type": "code",
   "execution_count": null,
   "id": "4e9e35e4",
   "metadata": {},
   "outputs": [],
   "source": [
    "f = plt.figure(figsize=(35, 8))\n",
    "sb.barplot(x = 'Make', y = 'MSRP', data = jointDF3) \n",
    "           #order = jointDF.groupby('Make')['MSRP'].median().sort_values().index)\n",
    "\n",
    "# Tilt the x-axis labels for better readability\n",
    "plt.xticks(rotation=45);"
   ]
  },
  {
   "cell_type": "code",
   "execution_count": null,
   "id": "11f209af",
   "metadata": {},
   "outputs": [],
   "source": [
    "f = plt.figure(figsize=(35, 8))\n",
    "sb.boxplot(x = 'Make', y = 'MSRP', data = jointDF, \n",
    "           order = jointDF.groupby('Make')['MSRP'].median().sort_values().index)\n",
    "\n",
    "# Tilt the x-axis labels for better readability\n",
    "plt.xticks(rotation=45);"
   ]
  },
  {
   "cell_type": "code",
   "execution_count": null,
   "id": "aead9584",
   "metadata": {},
   "outputs": [],
   "source": [
    "f = plt.figure(figsize=(35, 8))\n",
    "sb.boxplot(x = 'Make', y = 'MSRP', data = jointDF3, \n",
    "           order = jointDF3.groupby('Make')['MSRP'].median().sort_values().index)\n",
    "\n",
    "# Tilt the x-axis labels for better readability\n",
    "plt.xticks(rotation=45);"
   ]
  },
  {
   "cell_type": "code",
   "execution_count": null,
   "id": "aa7a9e4e",
   "metadata": {},
   "outputs": [],
   "source": [
    "f = plt.figure(figsize=(35, 8))\n",
    "sb.boxplot(x = 'Make', y = 'MSRP', data = jointDF4, \n",
    "           order = jointDF4.groupby('Make')['MSRP'].median().sort_values().index)\n",
    "\n",
    "# Tilt the x-axis labels for better readability\n",
    "plt.xticks(rotation=45);"
   ]
  },
  {
   "cell_type": "code",
   "execution_count": null,
   "id": "0211fa48",
   "metadata": {},
   "outputs": [],
   "source": [
    "train_filterss.describe()"
   ]
  },
  {
   "cell_type": "code",
   "execution_count": null,
   "id": "2be98172",
   "metadata": {},
   "outputs": [],
   "source": [
    "bugatti=train_filterss[train_filterss[\"Make\"]==\"Bugatti\"]\n",
    "bugatti.describe()"
   ]
  },
  {
   "cell_type": "code",
   "execution_count": null,
   "id": "c5de2e81",
   "metadata": {},
   "outputs": [],
   "source": [
    "anomaly=train_filterss[train_filterss[\"Make\"]==\"Bugatti\"]\n",
    "train_filter_final=train_filterss.drop(anomaly.index)\n",
    "train_filter_final.describe()"
   ]
  },
  {
   "cell_type": "code",
   "execution_count": null,
   "id": "40f43861",
   "metadata": {},
   "outputs": [],
   "source": [
    "f = plt.figure(figsize=(35, 8))\n",
    "sb.jointplot(x = \"Make\", y = \"MSRP\", data = jointDF, height =42)\n",
    "plt.xticks(rotation=45)"
   ]
  },
  {
   "cell_type": "code",
   "execution_count": null,
   "id": "eac699cf",
   "metadata": {},
   "outputs": [],
   "source": [
    "f = plt.figure(figsize=(35, 8))\n",
    "sb.jointplot(x = \"Make\", y = \"MSRP\", data = jointDF3, height =42)\n",
    "plt.xticks(rotation=45)"
   ]
  },
  {
   "cell_type": "code",
   "execution_count": null,
   "id": "65124ee1",
   "metadata": {},
   "outputs": [],
   "source": [
    "f = plt.figure(figsize=(35, 8))\n",
    "sb.jointplot(x = \"Make\", y = \"MSRP\", data = jointDF4, height =42)\n",
    "plt.xticks(rotation=45)"
   ]
  },
  {
   "cell_type": "markdown",
   "id": "83a7ae91",
   "metadata": {},
   "source": [
    "filter out bugatti. Use the top 4 make to do a correlation with the msrp."
   ]
  },
  {
   "cell_type": "code",
   "execution_count": null,
   "id": "e9a54f09",
   "metadata": {},
   "outputs": [],
   "source": [
    "f = plt.figure(figsize=(35, 8))\n",
    "sb.barplot(x = 'Make', y = 'MSRP', data = jointDF4) \n",
    "           #order = jointDF.groupby('Make')['MSRP'].median().sort_values().index)\n",
    "\n",
    "# Tilt the x-axis labels for better readability\n",
    "plt.xticks(rotation=45);"
   ]
  },
  {
   "cell_type": "markdown",
   "id": "6f7ed31d",
   "metadata": {},
   "source": [
    "\n",
    "do filter_rule = (2000 == train_set[\"MSRP\"])\n",
    "filter_set = train_set[filter_rule]\n",
    "then display\n",
    "display year, make, msrp\n",
    "replot rest of data\n",
    "do random 80:20\n",
    "which feature affect price most(boxplot, regression etc)\n"
   ]
  },
  {
   "cell_type": "code",
   "execution_count": null,
   "id": "261e8adb",
   "metadata": {},
   "outputs": [],
   "source": [
    "jointDF2 = pd.concat([msrp,year],axis = 1).reindex(msrp.index)\n",
    "#jointDF2"
   ]
  },
  {
   "cell_type": "code",
   "execution_count": null,
   "id": "47f7cf18",
   "metadata": {},
   "outputs": [],
   "source": [
    "\n",
    " #sb.barplot(y = \"Year\", x = \"MSRP\", data = jointDF2)"
   ]
  },
  {
   "cell_type": "code",
   "execution_count": null,
   "id": "5bbd92b8",
   "metadata": {},
   "outputs": [],
   "source": [
    "mark =  pd.DataFrame(train[\"Market Category\"])\n",
    "train_filterss=train.drop(mark,axis=1)\n",
    "#train_filterss\n",
    "\n",
    "#df = pd.read_csv(\"newdata.csv\",index_col=0)\n",
    "#df = df.drop(\"Max\",axis=0)"
   ]
  },
  {
   "cell_type": "code",
   "execution_count": null,
   "id": "ae0bd90c",
   "metadata": {},
   "outputs": [],
   "source": [
    "#make_filtered.describe()"
   ]
  },
  {
   "cell_type": "code",
   "execution_count": null,
   "id": "b90193af",
   "metadata": {},
   "outputs": [],
   "source": [
    "#make_filtered2.describe()"
   ]
  },
  {
   "cell_type": "code",
   "execution_count": null,
   "id": "8e61bc5c",
   "metadata": {},
   "outputs": [],
   "source": [
    "#len(jointDF4[\"Make\"].index)"
   ]
  },
  {
   "cell_type": "code",
   "execution_count": null,
   "id": "3f7d1791",
   "metadata": {},
   "outputs": [],
   "source": [
    "jointDF5 = pd.concat([year,make], axis = 1).reindex(year.index)\n",
    "sb.jointplot(x = \"Make\", y = \"Year\", data = jointDF5, height =42)\n",
    "plt.xticks(rotation=45)"
   ]
  },
  {
   "cell_type": "code",
   "execution_count": null,
   "id": "ce64fd32",
   "metadata": {},
   "outputs": [],
   "source": [
    "chevrolet=train_filterss[train_filterss[\"Make\"]==\"Chevrolet\"]\n",
    "volkswagen=train_filterss[train_filterss[\"Make\"]==\"Volkswagen\"]\n",
    "ford=train_filterss[train_filterss[\"Make\"]==\"Ford\"]\n",
    "toyota=train_filterss[train_filterss[\"Make\"]==\"Toyota\"]\n",
    "nissan=train_filterss[train_filterss[\"Make\"]==\"Nissan\"]"
   ]
  },
  {
   "cell_type": "code",
   "execution_count": null,
   "id": "910b4851",
   "metadata": {},
   "outputs": [],
   "source": [
    "#chevrolet"
   ]
  },
  {
   "cell_type": "code",
   "execution_count": null,
   "id": "d6e36987",
   "metadata": {},
   "outputs": [],
   "source": [
    "#volkswagen"
   ]
  },
  {
   "cell_type": "code",
   "execution_count": null,
   "id": "445f7adf",
   "metadata": {},
   "outputs": [],
   "source": [
    "#ford"
   ]
  },
  {
   "cell_type": "code",
   "execution_count": null,
   "id": "a1db2be0",
   "metadata": {},
   "outputs": [],
   "source": [
    "#toyota"
   ]
  },
  {
   "cell_type": "code",
   "execution_count": null,
   "id": "0a3b6b94",
   "metadata": {},
   "outputs": [],
   "source": [
    "#nissan"
   ]
  },
  {
   "cell_type": "markdown",
   "id": "5214c556",
   "metadata": {},
   "source": [
    "1)Plot the correlation matrix of the int features with respect to the individual top 4 brands\n",
    "2)see the top feature with the highest correlation with respect to the top 4 brands\n",
    "3)do a train test split; import the sci kit learn linear regression and train test split\n",
    "4)split train:test 80:20\n",
    "5) plot regression line"
   ]
  },
  {
   "cell_type": "code",
   "execution_count": null,
   "id": "e29ceb1d",
   "metadata": {},
   "outputs": [],
   "source": [
    "chevrolet.info()"
   ]
  },
  {
   "cell_type": "code",
   "execution_count": null,
   "id": "b6ca8970",
   "metadata": {},
   "outputs": [],
   "source": [
    "from sklearn.linear_model import LinearRegression\n",
    "from sklearn.model_selection import train_test_split\n",
    "from sklearn.metrics import mean_squared_error"
   ]
  },
  {
   "cell_type": "code",
   "execution_count": null,
   "id": "34dd9a8b",
   "metadata": {},
   "outputs": [],
   "source": [
    "chevrolet=chevrolet.dropna()\n",
    "y = pd.DataFrame(chevrolet[\"MSRP\"])\n",
    "x = pd.DataFrame(chevrolet [[\"Year\", \"Engine HP\", \"highway MPG\",\"city mpg\"]])"
   ]
  },
  {
   "cell_type": "code",
   "execution_count": null,
   "id": "a272fdb6",
   "metadata": {},
   "outputs": [],
   "source": [
    "x_train, x_test, y_train, y_test = train_test_split(x, y, test_size = 0.2)"
   ]
  },
  {
   "cell_type": "code",
   "execution_count": null,
   "id": "22c44d12",
   "metadata": {},
   "outputs": [],
   "source": [
    "trainDF = pd.concat([y_train, x_train], axis = 1).reindex(y_train.index)\n",
    "#trainDF\n",
    "trainDF.corr()"
   ]
  },
  {
   "cell_type": "code",
   "execution_count": null,
   "id": "ed027bad",
   "metadata": {},
   "outputs": [],
   "source": [
    "z= pd.DataFrame(chevrolet[[\"Engine Cylinders\", \"Number of Doors\", \"Popularity\"]])\n",
    "trainDF2 = pd.concat([y_train, z], axis = 1).reindex(y_train.index)\n",
    "trainDF2.corr()"
   ]
  },
  {
   "cell_type": "code",
   "execution_count": null,
   "id": "dc08521c",
   "metadata": {},
   "outputs": [],
   "source": [
    "volks_y = pd.DataFrame(volkswagen[\"MSRP\"])\n",
    "volks_x = pd.DataFrame(volkswagen [[\"Year\", \"Engine HP\", \"highway MPG\",\"city mpg\"]])\n",
    "volks_x_train, volks_x_test,volks_y_train, volks_y_test = train_test_split(volks_x, volks_y, test_size = 0.2)\n",
    "volks_train = pd.concat([volks_y_train, volks_x_train], axis = 1).reindex(volks_y_train.index)\n",
    "volks_z= pd.DataFrame(volkswagen[[\"Engine Cylinders\", \"Number of Doors\", \"Popularity\"]])\n",
    "volks_train.corr()"
   ]
  },
  {
   "cell_type": "code",
   "execution_count": null,
   "id": "22eb2029",
   "metadata": {},
   "outputs": [],
   "source": [
    "volks_train2 =  pd.concat([volks_y_train, volks_z], axis = 1).reindex(volks_y_train.index)\n",
    "volks_train2.corr()"
   ]
  },
  {
   "cell_type": "code",
   "execution_count": null,
   "id": "b66139a8",
   "metadata": {},
   "outputs": [],
   "source": [
    "ford=ford.dropna()\n",
    "ford_y = pd.DataFrame(ford[\"MSRP\"])\n",
    "ford_x = pd.DataFrame(ford [[\"Year\", \"Engine HP\", \"highway MPG\",\"city mpg\"]])\n",
    "ford_x_train, ford_x_test,ford_y_train, ford_y_test = train_test_split(ford_x, ford_y, test_size = 0.2)\n",
    "ford_train = pd.concat([ford_y_train, ford_x_train], axis = 1).reindex(ford_y_train.index)\n",
    "ford_z= pd.DataFrame(ford[[\"Engine Cylinders\", \"Number of Doors\", \"Popularity\"]])\n",
    "ford_train2 =  pd.concat([ford_y_train, ford_z], axis = 1).reindex(ford_y_train.index)\n",
    "ford_train.corr()"
   ]
  },
  {
   "cell_type": "code",
   "execution_count": null,
   "id": "351d1568",
   "metadata": {},
   "outputs": [],
   "source": [
    "ford_train2.corr()"
   ]
  },
  {
   "cell_type": "code",
   "execution_count": null,
   "id": "7dd5faf2",
   "metadata": {},
   "outputs": [],
   "source": [
    "toyota=toyota.dropna()\n",
    "toyota_y = pd.DataFrame(toyota[\"MSRP\"])\n",
    "toyota_x = pd.DataFrame(toyota [[\"Year\", \"Engine HP\", \"highway MPG\",\"city mpg\"]])\n",
    "toyota_x_train, toyota_x_test,toyota_y_train, toyota_y_test = train_test_split(toyota_x, toyota_y, test_size = 0.2)\n",
    "toyota_train = pd.concat([toyota_y_train, toyota_x_train], axis = 1).reindex(toyota_y_train.index)\n",
    "toyota_z= pd.DataFrame(toyota[[\"Engine Cylinders\", \"Number of Doors\", \"Popularity\"]])\n",
    "toyota_train2 =  pd.concat([toyota_y_train, toyota_z], axis = 1).reindex(toyota_y_train.index)\n",
    "toyota_train.corr()"
   ]
  },
  {
   "cell_type": "code",
   "execution_count": null,
   "id": "a3ad450a",
   "metadata": {},
   "outputs": [],
   "source": [
    "toyota_train2.corr()"
   ]
  },
  {
   "cell_type": "code",
   "execution_count": null,
   "id": "352e6749",
   "metadata": {},
   "outputs": [],
   "source": [
    "nissan=nissan.dropna()\n",
    "nissan_y = pd.DataFrame(nissan[\"MSRP\"])\n",
    "nissan_x = pd.DataFrame(nissan [[\"Year\", \"Engine HP\", \"highway MPG\",\"city mpg\"]])\n"
   ]
  },
  {
   "cell_type": "code",
   "execution_count": null,
   "id": "f59cea7b",
   "metadata": {},
   "outputs": [],
   "source": [
    "nissan_x_train, nissan_x_test,nissan_y_train, nissan_y_test = train_test_split(nissan_x, nissan_y, test_size = 0.2)\n",
    "nissan_train = pd.concat([nissan_y_train, nissan_x_train], axis = 1).reindex(nissan_y_train.index)\n",
    "nissan_z= pd.DataFrame(nissan[[\"Engine Cylinders\", \"Number of Doors\", \"Popularity\"]])\n",
    "nissan_train2 =  pd.concat([nissan_y_train, nissan_z], axis = 1).reindex(nissan_y_train.index)\n",
    "nissan_train.corr()"
   ]
  },
  {
   "cell_type": "code",
   "execution_count": null,
   "id": "378d354c",
   "metadata": {},
   "outputs": [],
   "source": [
    "nissan_train2.corr()"
   ]
  },
  {
   "cell_type": "code",
   "execution_count": null,
   "id": "1486892a",
   "metadata": {},
   "outputs": [],
   "source": [
    "def mean_sq_err(actual,predicted):\n",
    "    '''Returns the Mean Squared Error of actual and predicted values'''\n",
    "    return np.mean(np.square(np.array(actual) -np.array(predicted)))"
   ]
  },
  {
   "cell_type": "code",
   "execution_count": null,
   "id": "42979599",
   "metadata": {},
   "outputs": [],
   "source": [
    "linreg = LinearRegression()  # create the linear regression object\n",
    "linreg.fit(volks_x_train,volks_y_train)  # train the linear regression model\n",
    "# Coefficients of the Linear Regression Line\n",
    "print(\"Intercept of Regression \\t: b = \",linreg.intercept_)\n",
    "print(\"Coefficients of Regression \\t: a =\",linreg.coef_)\n",
    "print(pd.DataFrame(list(zip(volks_x_train.columns, linreg.coef_[0])), columns = [\"Predictors\", \"Coefficients\"]))\n",
    "print()\n",
    "\n",
    "# Predict Total values corresponding to HP\n",
    "volks_y_train_pred = linreg.predict(volks_x_train)\n",
    "volks_y_test_pred = linreg.predict(volks_x_test)\n",
    "\n",
    "# Check the Goodness of Fit on train data\n",
    "print(\"Goodness of Fit of Model \\tTrain Dataset\")\n",
    "print(\"Explained Variance(train) (R^2) \\t:\",linreg.score(volks_x_train,volks_y_train))\n",
    "#print(\"Mean Squared Error (MSE) \\t:\",mean_squared_error(y_train,y_train_pred))\n",
    "#print(\"Explained Variance(test),prediction accuracy (R^2) \\t:\",100*linreg.score(GrLiv_test,Saleprice_test)) \n",
    "print()\n",
    "# Check the Goodness of Fit (on Test Data)\n",
    "print(\"Prediction accuracy \\tTest Dataset\")\n",
    "#print(\"Explained Variance (R^2) \\t:\", linreg.score(x_test, y_test))\n",
    "print(\"Mean Squared Error (MSE) \\t:\", mean_squared_error(volks_y_test, volks_y_test_pred))\n",
    "print()\n",
    "\n",
    "# Plot the Predictions vs the True Values\n",
    "f, axes = plt.subplots(1,2, figsize=(24,12))\n",
    "axes[0].scatter(volks_y_train,volks_y_train_pred,color = 'b')\n",
    "axes[0].plot(volks_y_train,volks_y_train,'w-',linewidth = 1)\n",
    "axes[0].set_xlabel(\"True values of the Response Variable(Train)\")\n",
    "axes[0].set_ylabel(\"Predicted values of the Response variable (Train)\")\n",
    "axes[1].scatter(volks_y_test,volks_y_test_pred,color=\"g\")\n",
    "axes[1].plot(volks_y_test,volks_y_test,'w-',linewidth = 1)\n",
    "axes[1].set_xlabel(\"True values of the Response Variable(Test)\")\n",
    "axes[1].set_ylabel(\"Predicted values of the Response Variable(Test)\")\n",
    "plt.show()"
   ]
  },
  {
   "cell_type": "code",
   "execution_count": null,
   "id": "22d85f8a",
   "metadata": {},
   "outputs": [],
   "source": [
    "linreg = LinearRegression()  # create the linear regression object\n",
    "linreg.fit(ford_x_train,ford_y_train)  # train the linear regression model\n",
    "# Coefficients of the Linear Regression Line\n",
    "print(\"Intercept of Regression \\t: b = \",linreg.intercept_)\n",
    "print(\"Coefficients of Regression \\t: a =\",linreg.coef_)\n",
    "print(pd.DataFrame(list(zip(ford_x_train.columns, linreg.coef_[0])), columns = [\"Predictors\", \"Coefficients\"]))\n",
    "print()\n",
    "\n",
    "# Predict Total values corresponding to HP\n",
    "ford_y_train_pred = linreg.predict(ford_x_train)\n",
    "ford_y_test_pred = linreg.predict(ford_x_test)\n",
    "\n",
    "# Check the Goodness of Fit on train data\n",
    "print(\"Goodness of Fit of Model \\tTrain Dataset\")\n",
    "print(\"Explained Variance(train) (R^2) \\t:\",linreg.score(ford_x_train,ford_y_train))\n",
    "print(\"Mean Squared Error (MSE) \\t:\",mean_squared_error(ford_y_train,ford_y_train_pred))\n",
    "print(\"Explained Variance(test),prediction accuracy (R^2) \\t:\",100*linreg.score(ford_x_test,ford_y_test)) \n",
    "print()\n",
    "# Check the Goodness of Fit (on Test Data)\n",
    "print(\"Prediction accuracy \\tTest Dataset\")\n",
    "print(\"Explained Variance (R^2) \\t:\", linreg.score(ford_x_test, ford_y_test))\n",
    "print(\"Mean Squared Error (MSE) \\t:\", mean_squared_error(ford_y_test, ford_y_test_pred))\n",
    "print()\n",
    "\n",
    "# Plot the Predictions vs the True Values\n",
    "f, axes = plt.subplots(1,2, figsize=(24,12))\n",
    "axes[0].scatter(ford_y_train,ford_y_train_pred,color = 'b')\n",
    "axes[0].plot(ford_y_train,ford_y_train,'w-',linewidth = 1)\n",
    "axes[0].set_xlabel(\"True values of the Response Variable(Train)\")\n",
    "axes[0].set_ylabel(\"Predicted values of the Response variable (Train)\")\n",
    "axes[1].scatter(ford_y_test,ford_y_test_pred,color=\"g\")\n",
    "axes[1].plot(ford_y_test,ford_y_test,'w-',linewidth = 1)\n",
    "axes[1].set_xlabel(\"True values of the Response Variable(Test)\")\n",
    "axes[1].set_ylabel(\"Predicted values of the Response Variable(Test)\")\n",
    "plt.show()"
   ]
  },
  {
   "cell_type": "code",
   "execution_count": null,
   "id": "77aeffd7",
   "metadata": {},
   "outputs": [],
   "source": [
    "linreg = LinearRegression()  # create the linear regression object\n",
    "linreg.fit(toyota_x_train,toyota_y_train)  # train the linear regression model\n",
    "# Coefficients of the Linear Regression Line\n",
    "print(\"Intercept of Regression \\t: b = \",linreg.intercept_)\n",
    "print(\"Coefficients of Regression \\t: a =\",linreg.coef_)\n",
    "print(pd.DataFrame(list(zip(toyota_x_train.columns, linreg.coef_[0])), columns = [\"Predictors\", \"Coefficients\"]))\n",
    "print()\n",
    "\n",
    "# Predict Total values corresponding to HP\n",
    "toyota_y_train_pred = linreg.predict(toyota_x_train)\n",
    "toyota_y_test_pred = linreg.predict(toyota_x_test)\n",
    "\n",
    "# Check the Goodness of Fit on train data\n",
    "print(\"Goodness of Fit of Model \\tTrain Dataset\")\n",
    "print(\"Explained Variance(train) (R^2) \\t:\",linreg.score(toyota_x_train,toyota_y_train))\n",
    "print(\"Mean Squared Error (MSE) \\t:\",mean_squared_error(toyota_y_train,toyota_y_train_pred))\n",
    "print(\"Explained Variance(test),prediction accuracy (R^2) \\t:\",100*linreg.score(toyota_x_test,toyota_y_test)) \n",
    "print()\n",
    "# Check the Goodness of Fit (on Test Data)\n",
    "print(\"Prediction accuracy \\tTest Dataset\")\n",
    "print(\"Explained Variance (R^2) \\t:\", linreg.score(toyota_x_test, toyota_y_test))\n",
    "print(\"Mean Squared Error (MSE) \\t:\", mean_squared_error(toyota_y_test, toyota_y_test_pred))\n",
    "print()\n",
    "\n",
    "# Plot the Predictions vs the True Values\n",
    "f, axes = plt.subplots(1,2, figsize=(24,12))\n",
    "axes[0].scatter(toyota_y_train,toyota_y_train_pred,color = 'b')\n",
    "axes[0].plot(toyota_y_train,toyota_y_train,'w-',linewidth = 1)\n",
    "axes[0].set_xlabel(\"True values of the Response Variable(Train)\")\n",
    "axes[0].set_ylabel(\"Predicted values of the Response variable (Train)\")\n",
    "axes[1].scatter(toyota_y_test,toyota_y_test_pred,color=\"g\")\n",
    "axes[1].plot(toyota_y_test,toyota_y_test,'w-',linewidth = 1)\n",
    "axes[1].set_xlabel(\"True values of the Response Variable(Test)\")\n",
    "axes[1].set_ylabel(\"Predicted values of the Response Variable(Test)\")\n",
    "plt.show()"
   ]
  },
  {
   "cell_type": "code",
   "execution_count": null,
   "id": "e7acfe92",
   "metadata": {},
   "outputs": [],
   "source": [
    "linreg = LinearRegression()  # create the linear regression object\n",
    "linreg.fit(nissan_x_train,nissan_y_train)  # train the linear regression model\n",
    "# Coefficients of the Linear Regression Line\n",
    "print(\"Intercept of Regression \\t: b = \",linreg.intercept_)\n",
    "print(\"Coefficients of Regression \\t: a =\",linreg.coef_)\n",
    "print(pd.DataFrame(list(zip(nissan_x_train.columns, linreg.coef_[0])), columns = [\"Predictors\", \"Coefficients\"]))\n",
    "print()\n",
    "\n",
    "# Predict Total values corresponding to HP\n",
    "nissan_y_train_pred = linreg.predict(nissan_x_train)\n",
    "nissan_y_test_pred = linreg.predict(nissan_x_test)\n",
    "\n",
    "# Check the Goodness of Fit on train data\n",
    "print(\"Goodness of Fit of Model \\tTrain Dataset\")\n",
    "print(\"Explained Variance(train) (R^2) \\t:\",linreg.score(nissan_x_train,nissan_y_train))\n",
    "print(\"Mean Squared Error (MSE) \\t:\",mean_squared_error(nissan_y_train,nissan_y_train_pred))\n",
    "print(\"Explained Variance(test),prediction accuracy (R^2) \\t:\",100*linreg.score(nissan_x_test,nissan_y_test)) \n",
    "print()\n",
    "# Check the Goodness of Fit (on Test Data)\n",
    "print(\"Prediction accuracy \\tTest Dataset\")\n",
    "print(\"Explained Variance (R^2) \\t:\", linreg.score(nissan_x_test, nissan_y_test))\n",
    "print(\"Mean Squared Error (MSE) \\t:\", mean_squared_error(nissan_y_test, nissan_y_test_pred))\n",
    "print()\n",
    "\n",
    "# Plot the Predictions vs the True Values\n",
    "f, axes = plt.subplots(1,2, figsize=(24,12))\n",
    "axes[0].scatter(nissan_y_train,nissan_y_train_pred,color = 'b')\n",
    "axes[0].plot(nissan_y_train,nissan_y_train,'w-',linewidth = 1)\n",
    "axes[0].set_xlabel(\"True values of the Response Variable(Train)\")\n",
    "axes[0].set_ylabel(\"Predicted values of the Response variable (Train)\")\n",
    "axes[1].scatter(nissan_y_test,nissan_y_test_pred,color=\"g\")\n",
    "axes[1].plot(nissan_y_test,nissan_y_test,'w-',linewidth = 1)\n",
    "axes[1].set_xlabel(\"True values of the Response Variable(Test)\")\n",
    "axes[1].set_ylabel(\"Predicted values of the Response Variable(Test)\")\n",
    "plt.show()"
   ]
  },
  {
   "cell_type": "code",
   "execution_count": null,
   "id": "2fc486c3",
   "metadata": {},
   "outputs": [],
   "source": [
    "#total = pd.concat([automatic,manual],axis = 0)\n",
    "#license=pd.concat([msrp,total],axis = 1).reindex(msrp.index)\n",
    "#f = plt.figure(figsize=(16, 8))\n",
    "#sb.stripplot(x = 'MSRP', y = 'Transmission Type', data = license)"
   ]
  },
  {
   "cell_type": "code",
   "execution_count": null,
   "id": "f7195742",
   "metadata": {},
   "outputs": [],
   "source": [
    "#from sklearn.tree import DecisionTreeClassifier\n",
    "#tree = DecisionTreeClassifier(max_depth = 4)"
   ]
  },
  {
   "cell_type": "code",
   "execution_count": null,
   "id": "45ed8657",
   "metadata": {},
   "outputs": [],
   "source": [
    "#license=license.dropna()\n",
    "#licenses = pd.DataFrame(license['Transmission Type'])\n",
    "#Msrp = pd.DataFrame(license['MSRP'])\n",
    "\n",
    "\n",
    "# Split the Dataset into random Train and Test\n",
    "#licenses_train, licenses_test, Msrp_train, Msrp_test = train_test_split(licenses, Msrp, test_size = 0.2)"
   ]
  },
  {
   "cell_type": "code",
   "execution_count": null,
   "id": "f68f50c2",
   "metadata": {},
   "outputs": [],
   "source": [
    "#tree.fit(Msrp_train, licenses_train)\n",
    "#from sklearn.tree import plot_tree\n",
    "\n",
    "#f = plt.figure(figsize=(24,24))\n",
    "#plot_tree(tree, filled=True,  \n",
    " #         feature_names=Msrp_train.columns, \n",
    " #         class_names=[\"manual\",\"automatic\"])"
   ]
  },
  {
   "cell_type": "markdown",
   "id": "3c6b7521",
   "metadata": {},
   "source": [
    "from sklearn.tree import DecisionTreeClassifier\n",
    "from sklearn.model_selection import train_test_split\n",
    "from sklearn.metrics import confusion_matrix\n",
    "\n",
    "# Recall the Legendary-Total Dataset\n",
    "legnd = pd.DataFrame(pkmndata['Legendary'])   # Response\n",
    "total = pd.DataFrame(pkmndata['Total'])       # Predictor\n",
    "\n",
    "# Split the Legendary-Total Dataset into Train and Test\n",
    "X_train, X_test, y_train, y_test = train_test_split(total, legnd, test_size = 0.25)\n",
    "\n",
    "# Decision Tree using Train Data\n",
    "dectree = DecisionTreeClassifier(max_depth = 2)  # create the decision tree object\n",
    "dectree.fit(X_train, y_train)                    # train the decision tree model\n",
    "\n",
    "# Predict Legendary values corresponding to Total\n",
    "y_train_pred = dectree.predict(X_train)\n",
    "y_test_pred = dectree.predict(X_test)\n",
    "\n",
    "# Check the Goodness of Fit (on Train Data)\n",
    "print(\"Goodness of Fit of Model \\tTrain Dataset\")\n",
    "print(\"Classification Accuracy \\t:\", dectree.score(X_train, y_train))\n",
    "print()\n",
    "\n",
    "# Check the Goodness of Fit (on Test Data)\n",
    "print(\"Goodness of Fit of Model \\tTest Dataset\")\n",
    "print(\"Classification Accuracy \\t:\", dectree.score(X_test, y_test))\n",
    "print()\n",
    "\n",
    "# Plot the Confusion Matrix for Train and Test\n",
    "f, axes = plt.subplots(1, 2, figsize=(12, 4))\n",
    "sb.heatmap(confusion_matrix(y_train, y_train_pred),\n",
    "           annot = True, fmt=\".0f\", annot_kws={\"size\": 18}, ax = axes[0])\n",
    "sb.heatmap(confusion_matrix(y_test, y_test_pred), \n",
    "           annot = True, fmt=\".0f\", annot_kws={\"size\": 18}, ax = axes[1])"
   ]
  },
  {
   "cell_type": "code",
   "execution_count": null,
   "id": "d307d30b",
   "metadata": {},
   "outputs": [],
   "source": []
  }
 ],
 "metadata": {
  "kernelspec": {
   "display_name": "Python 3 (ipykernel)",
   "language": "python",
   "name": "python3"
  },
  "language_info": {
   "codemirror_mode": {
    "name": "ipython",
    "version": 3
   },
   "file_extension": ".py",
   "mimetype": "text/x-python",
   "name": "python",
   "nbconvert_exporter": "python",
   "pygments_lexer": "ipython3",
   "version": "3.9.7"
  }
 },
 "nbformat": 4,
 "nbformat_minor": 5
}
